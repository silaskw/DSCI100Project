{
 "cells": [
  {
   "cell_type": "code",
   "execution_count": 1,
   "metadata": {},
   "outputs": [
    {
     "name": "stderr",
     "output_type": "stream",
     "text": [
      "── \u001b[1mAttaching packages\u001b[22m ─────────────────────────────────────── tidyverse 1.3.0 ──\n",
      "\n",
      "\u001b[32m✔\u001b[39m \u001b[34mggplot2\u001b[39m 3.3.2     \u001b[32m✔\u001b[39m \u001b[34mpurrr  \u001b[39m 0.3.4\n",
      "\u001b[32m✔\u001b[39m \u001b[34mtibble \u001b[39m 3.0.3     \u001b[32m✔\u001b[39m \u001b[34mdplyr  \u001b[39m 1.0.2\n",
      "\u001b[32m✔\u001b[39m \u001b[34mtidyr  \u001b[39m 1.1.2     \u001b[32m✔\u001b[39m \u001b[34mstringr\u001b[39m 1.4.0\n",
      "\u001b[32m✔\u001b[39m \u001b[34mreadr  \u001b[39m 1.3.1     \u001b[32m✔\u001b[39m \u001b[34mforcats\u001b[39m 0.5.0\n",
      "\n",
      "Warning message:\n",
      "“package ‘ggplot2’ was built under R version 4.0.1”\n",
      "Warning message:\n",
      "“package ‘tibble’ was built under R version 4.0.2”\n",
      "Warning message:\n",
      "“package ‘tidyr’ was built under R version 4.0.2”\n",
      "Warning message:\n",
      "“package ‘dplyr’ was built under R version 4.0.2”\n",
      "── \u001b[1mConflicts\u001b[22m ────────────────────────────────────────── tidyverse_conflicts() ──\n",
      "\u001b[31m✖\u001b[39m \u001b[34mdplyr\u001b[39m::\u001b[32mfilter()\u001b[39m masks \u001b[34mstats\u001b[39m::filter()\n",
      "\u001b[31m✖\u001b[39m \u001b[34mdplyr\u001b[39m::\u001b[32mlag()\u001b[39m    masks \u001b[34mstats\u001b[39m::lag()\n",
      "\n",
      "Warning message:\n",
      "“package ‘tidymodels’ was built under R version 4.0.2”\n",
      "── \u001b[1mAttaching packages\u001b[22m ────────────────────────────────────── tidymodels 0.1.1 ──\n",
      "\n",
      "\u001b[32m✔\u001b[39m \u001b[34mbroom    \u001b[39m 0.7.0      \u001b[32m✔\u001b[39m \u001b[34mrecipes  \u001b[39m 0.1.13\n",
      "\u001b[32m✔\u001b[39m \u001b[34mdials    \u001b[39m 0.0.9      \u001b[32m✔\u001b[39m \u001b[34mrsample  \u001b[39m 0.0.7 \n",
      "\u001b[32m✔\u001b[39m \u001b[34minfer    \u001b[39m 0.5.4      \u001b[32m✔\u001b[39m \u001b[34mtune     \u001b[39m 0.1.1 \n",
      "\u001b[32m✔\u001b[39m \u001b[34mmodeldata\u001b[39m 0.0.2      \u001b[32m✔\u001b[39m \u001b[34mworkflows\u001b[39m 0.2.0 \n",
      "\u001b[32m✔\u001b[39m \u001b[34mparsnip  \u001b[39m 0.1.3      \u001b[32m✔\u001b[39m \u001b[34myardstick\u001b[39m 0.0.7 \n",
      "\n",
      "Warning message:\n",
      "“package ‘broom’ was built under R version 4.0.2”\n",
      "Warning message:\n",
      "“package ‘dials’ was built under R version 4.0.2”\n",
      "Warning message:\n",
      "“package ‘infer’ was built under R version 4.0.3”\n",
      "Warning message:\n",
      "“package ‘modeldata’ was built under R version 4.0.1”\n",
      "Warning message:\n",
      "“package ‘parsnip’ was built under R version 4.0.2”\n",
      "Warning message:\n",
      "“package ‘recipes’ was built under R version 4.0.1”\n",
      "Warning message:\n",
      "“package ‘tune’ was built under R version 4.0.2”\n",
      "Warning message:\n",
      "“package ‘workflows’ was built under R version 4.0.2”\n",
      "Warning message:\n",
      "“package ‘yardstick’ was built under R version 4.0.2”\n",
      "── \u001b[1mConflicts\u001b[22m ───────────────────────────────────────── tidymodels_conflicts() ──\n",
      "\u001b[31m✖\u001b[39m \u001b[34mscales\u001b[39m::\u001b[32mdiscard()\u001b[39m masks \u001b[34mpurrr\u001b[39m::discard()\n",
      "\u001b[31m✖\u001b[39m \u001b[34mdplyr\u001b[39m::\u001b[32mfilter()\u001b[39m   masks \u001b[34mstats\u001b[39m::filter()\n",
      "\u001b[31m✖\u001b[39m \u001b[34mrecipes\u001b[39m::\u001b[32mfixed()\u001b[39m  masks \u001b[34mstringr\u001b[39m::fixed()\n",
      "\u001b[31m✖\u001b[39m \u001b[34mdplyr\u001b[39m::\u001b[32mlag()\u001b[39m      masks \u001b[34mstats\u001b[39m::lag()\n",
      "\u001b[31m✖\u001b[39m \u001b[34myardstick\u001b[39m::\u001b[32mspec()\u001b[39m masks \u001b[34mreadr\u001b[39m::spec()\n",
      "\u001b[31m✖\u001b[39m \u001b[34mrecipes\u001b[39m::\u001b[32mstep()\u001b[39m   masks \u001b[34mstats\u001b[39m::step()\n",
      "\n"
     ]
    }
   ],
   "source": [
    "library(tidyverse)\n",
    "library(repr)\n",
    "library(tidymodels)\n",
    "options(repr.matrix.max.rows = 6)"
   ]
  },
  {
   "cell_type": "code",
   "execution_count": 2,
   "metadata": {},
   "outputs": [
    {
     "ename": "ERROR",
     "evalue": "Error in is_tibble(data): object 'tidy_player_stats' not found\n",
     "output_type": "error",
     "traceback": [
      "Error in is_tibble(data): object 'tidy_player_stats' not found\nTraceback:\n",
      "1. recipe(goat_rank ~ current_rank + best_rank + turned_pro + elo_rank + \n .     best_elo_rank + peak_elo_rank + titles, data = tidy_player_stats) %>% \n .     step_scale(all_predictors()) %>% step_center(all_predictors())",
      "2. eval(lhs, parent, parent)",
      "3. eval(lhs, parent, parent)",
      "4. recipe(goat_rank ~ current_rank + best_rank + turned_pro + elo_rank + \n .     best_elo_rank + peak_elo_rank + titles, data = tidy_player_stats)",
      "5. recipe.formula(goat_rank ~ current_rank + best_rank + turned_pro + \n .     elo_rank + best_elo_rank + peak_elo_rank + titles, data = tidy_player_stats)",
      "6. form2args(formula, data, ...)",
      "7. is_tibble(data)"
     ]
    }
   ],
   "source": [
    "knn_spec <- nearest_neighbor(weight_func = 'rectangular', neighbors = 3) %>%\n",
    "    set_engine('kknn') %>%\n",
    "    set_mode('classification')\n",
    "\n",
    "player_data_recipe <- recipe(goat_rank ~ current_rank + best_rank + turned_pro + elo_rank + best_elo_rank + peak_elo_rank + titles, data = tidy_player_stats) %>%\n",
    "                        step_scale(all_predictors()) %>%\n",
    "                        step_center(all_predictors())\n",
    "\n",
    "player_data_fit <- workflow() %>%\n",
    "        add_model(knn_spec) %>%\n",
    "        add_recipe(player_data_recipe) %>%\n",
    "        fit(data = tidy_player_stats)\n",
    "player_data_fit\n",
    "\n",
    "new_player <- tibble(current_rank = 5, best_rank = 10, turned_pro = 2004, elo_rank = 50, best_elo_rank = 30, peak_elo_rank = 2000, titles = 1)\n",
    "    fruit_predicted <- predict(player_data_fit, new_player)\n",
    "    fruit_predicted"
   ]
  },
  {
   "cell_type": "code",
   "execution_count": null,
   "metadata": {},
   "outputs": [],
   "source": [
    "player_stats <- read_csv(\"data/player_stats.csv\")\n",
    "\n",
    "colnames(player_stats) <- c(X1 = \"index\",\n",
    "                       Age = \"age\",\n",
    "                       Country = \"country\",\n",
    "                       Plays = \"plays\",\n",
    "                       Wikipedia = \"wiki\",\n",
    "                       \"Current Rank\" = \"current_rank\",\n",
    "                       \"Best Rank\" = \"best_rank\",\n",
    "                       Name = \"name\",\n",
    "                       Backhand = \"backhand\",\n",
    "                       \"Prize Money\" = \"prize_money\", \n",
    "                       Height = \"height\",\n",
    "                       \"Favorite Surface\" = \"fav_surface\",\n",
    "                       \"Turned Pro\" = \"turned_pro\",\n",
    "                       Seasons = \"seasons\",\n",
    "                       Active = \"active\",\n",
    "                       \"Current Elo Rank\" = \"elo_rank\",\n",
    "                       \"Best Elo Rank\" = \"best_elo_rank\",\n",
    "                       \"Peak Elo Rank\" = \"peak_elo_rank\",\n",
    "                       \"Last Appearance\" = \"last_app\",\n",
    "                       Titles = \"titles\",\n",
    "                       \"GOAT Rank\" = \"goat_rank\",\n",
    "                       \"Best Season\" = \"best_season\",\n",
    "                       Retired = \"retired\",\n",
    "                       Masters = \"masters\",\n",
    "                       Birthplace = \"birthplace\",\n",
    "                       Residence = \"res\",\n",
    "                       Weight = \"weight\",\n",
    "                       Coach = \"coach\",\n",
    "                       Facebook = \"facebook\",\n",
    "                       Twitter = \"twitter\",\n",
    "                       Nicknames = \"nicknames\",\n",
    "                       \"Grand Slams\" = \"grand_slams\",\n",
    "                       \"Davis Cups\" = \"davis_cups\",\n",
    "                       \"Web Site\" = \"website\",\n",
    "                       \"Team Cups\" = \"team_cups\",\n",
    "                       Olympics = \"olympics\",\n",
    "                       \"Weeks at No. 1\" = \"weeks_at_top\",\n",
    "                       \"Tour Finals\" = \"tour_finals\")\n",
    "\n",
    "player_stats\n",
    "colnames(player_stats)"
   ]
  },
  {
   "cell_type": "code",
   "execution_count": 3,
   "metadata": {},
   "outputs": [
    {
     "ename": "ERROR",
     "evalue": "Error in eval(lhs, parent, parent): object 'player_stats' not found\n",
     "output_type": "error",
     "traceback": [
      "Error in eval(lhs, parent, parent): object 'player_stats' not found\nTraceback:\n",
      "1. player_stats %>% filter(active == \"Yes\") %>% filter(!is.na(goat_rank)) %>% \n .     select(current_rank, best_rank, turned_pro, seasons, elo_rank, \n .         best_elo_rank, peak_elo_rank, goat_rank, titles) %>% \n .     arrange(best_rank)",
      "2. eval(lhs, parent, parent)",
      "3. eval(lhs, parent, parent)"
     ]
    }
   ],
   "source": [
    "tidy_player_stats <- player_stats %>%\n",
    "    filter(active == \"Yes\") %>%\n",
    "    filter(!is.na(goat_rank)) %>%\n",
    "    select(current_rank, best_rank, turned_pro, seasons, elo_rank, best_elo_rank, peak_elo_rank, goat_rank, titles) %>%\n",
    "    arrange(best_rank)\n",
    "tidy_player_stats"
   ]
  },
  {
   "cell_type": "code",
   "execution_count": 4,
   "metadata": {},
   "outputs": [
    {
     "ename": "ERROR",
     "evalue": "Error in eval(lhs, parent, parent): object 'tidy_player_stats' not found\n",
     "output_type": "error",
     "traceback": [
      "Error in eval(lhs, parent, parent): object 'tidy_player_stats' not found\nTraceback:\n",
      "1. tidy_player_stats %>% mutate(current_rank = current_rank)",
      "2. eval(lhs, parent, parent)",
      "3. eval(lhs, parent, parent)"
     ]
    }
   ],
   "source": [
    "tidy_player_stats_mutated <- tidy_player_stats %>%\n",
    "    mutate(current_rank = current_rank)\n",
    "    #mutate(current_rank = as.numeric(current_rank)) %>%\n",
    "    #mutate(best_rank = as.numeric(best_rank)) %>%\n",
    "    #mutate(elo_rank = as.numeric(elo_rank)) %>%\n",
    "    #mutate(best_elo_rank = as.numeric(best_elo_rank)) %>%\n",
    "    #mutate(peak_current_rank = as.numeric(current_rank))\n",
    "tidy_player_stats_mutated"
   ]
  },
  {
   "cell_type": "code",
   "execution_count": null,
   "metadata": {},
   "outputs": [],
   "source": []
  }
 ],
 "metadata": {
  "kernelspec": {
   "display_name": "R",
   "language": "R",
   "name": "ir"
  },
  "language_info": {
   "codemirror_mode": "r",
   "file_extension": ".r",
   "mimetype": "text/x-r-source",
   "name": "R",
   "pygments_lexer": "r",
   "version": "4.0.0"
  }
 },
 "nbformat": 4,
 "nbformat_minor": 4
}
